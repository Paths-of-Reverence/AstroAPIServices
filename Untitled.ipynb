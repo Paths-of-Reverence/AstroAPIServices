{
 "cells": [
  {
   "cell_type": "code",
   "execution_count": 1,
   "metadata": {},
   "outputs": [
    {
     "name": "stdout",
     "output_type": "stream",
     "text": [
      "Defaulting to user installation because normal site-packages is not writeable\n",
      "Requirement already satisfied: requests in /private/var/containers/Bundle/Application/E53B90D7-8727-449D-958D-0C097BB38DC8/Carnets.app/Library/lib/python3.11/site-packages (2.31.0)\n",
      "Collecting requests_oauthlib\n",
      "  Downloading requests_oauthlib-2.0.0-py2.py3-none-any.whl.metadata (11 kB)\n",
      "Requirement already satisfied: charset-normalizer<4,>=2 in /private/var/containers/Bundle/Application/E53B90D7-8727-449D-958D-0C097BB38DC8/Carnets.app/Library/lib/python3.11/site-packages (from requests) (3.3.2)\n",
      "Requirement already satisfied: idna<4,>=2.5 in /private/var/containers/Bundle/Application/E53B90D7-8727-449D-958D-0C097BB38DC8/Carnets.app/Library/lib/python3.11/site-packages (from requests) (3.6)\n",
      "Requirement already satisfied: urllib3<3,>=1.21.1 in /private/var/containers/Bundle/Application/E53B90D7-8727-449D-958D-0C097BB38DC8/Carnets.app/Library/lib/python3.11/site-packages (from requests) (2.1.0)\n",
      "Requirement already satisfied: certifi>=2017.4.17 in /private/var/containers/Bundle/Application/E53B90D7-8727-449D-958D-0C097BB38DC8/Carnets.app/Library/lib/python3.11/site-packages (from requests) (2023.11.17)\n",
      "Collecting oauthlib>=3.0.0 (from requests_oauthlib)\n",
      "  Downloading oauthlib-3.2.2-py3-none-any.whl.metadata (7.5 kB)\n",
      "Downloading requests_oauthlib-2.0.0-py2.py3-none-any.whl (24 kB)\n",
      "Downloading oauthlib-3.2.2-py3-none-any.whl (151 kB)\n",
      "Installing collected packages: oauthlib, requests_oauthlib\n",
      "Successfully installed oauthlib-3.2.2 requests_oauthlib-2.0.0\n",
      "Note: you may need to restart the kernel to use updated packages.\n"
     ]
    }
   ],
   "source": [
    "pip install requests requests_oauthlib"
   ]
  },
  {
   "cell_type": "code",
   "execution_count": 8,
   "metadata": {},
   "outputs": [
    {
     "name": "stdout",
     "output_type": "stream",
     "text": [
      "Error 400: {\"id\":\"81d637f1-18c2-41b2-a0b9-c3b5306cca92\",\"status\":\"error\",\"errors\":[{\"source\":{\"parameter\":\"\\/profile\\/datetime\"},\"code\":\"1002\",\"title\":\"Mandatory parameter missing\",\"detail\":\"Parameter is mandatory. Value should be a string in ISO 8601 (YYYY-MM-DDTHH:MM:SSZ) format.  Example: 2004-02-12T15:19:21+05:30.\"},{\"source\":{\"parameter\":\"\\/profile\\/coordinates\"},\"code\":\"1002\",\"title\":\"Mandatory parameter missing\",\"detail\":\"Coordinates is mandatory. If latitude is `10.214 N` and longitude is `78.097 E`, the value should be string `10.21,78.09`.\"}]}\n"
     ]
    }
   ],
   "source": [
    "import requests\n",
    "import os\n",
    "\n",
    "# Your API credentials\n",
    "client_id = os.getenv('PROKERALA_API_KEY', '932b17a9-4090-4773-b122-65db1e508c74')\n",
    "client_secret = os.getenv('PROKERALA_API_SECRET', '5Urln4goKy3u02qLPThqMwJcNHWwTVMAu1WLGwgG')\n",
    "\n",
    "# Token URL\n",
    "token_url = 'https://api.prokerala.com/token'\n",
    "\n",
    "# Request payload for client credentials grant\n",
    "data = {\n",
    "    'grant_type': 'client_credentials'\n",
    "}\n",
    "\n",
    "# Make a POST request to get the access token\n",
    "response = requests.post(token_url, data=data, auth=(client_id, client_secret))\n",
    "\n",
    "# Check if the request was successful\n",
    "if response.status_code == 200:\n",
    "    access_token = response.json()['access_token']\n",
    "else:\n",
    "    print(f\"Error obtaining access token: {response.status_code} {response.text}\")\n",
    "    exit()\n",
    "\n",
    "# API endpoint for the natal chart in version 2\n",
    "url = 'https://api.prokerala.com/v2/astrology/natal-chart'\n",
    "\n",
    "# Parameters for the API call\n",
    "params = {\n",
    "    'house_syste,': 'whole-sign',                      # Example value; refer to documentation\n",
    "    'profile/datetime': '1989-01-06T15:10:00-5:00',  # Replace with the desired date and time\n",
    "    'profile/coordinates': '35.993776, -78.898473'             # Replace with the desired latitude\n",
    "               \n",
    "}\n",
    "\n",
    "# Set up headers with the access token\n",
    "headers = {\n",
    "    'Authorization': f'Bearer {access_token}'\n",
    "}\n",
    "\n",
    "# Make the API request\n",
    "response = requests.get(url, params=params, headers=headers)\n",
    "\n",
    "# Check the response status\n",
    "if response.status_code == 200:\n",
    "    data = response.json()\n",
    "    print(data)\n",
    "else:\n",
    "    print(f\"Error {response.status_code}: {response.text}\")"
   ]
  },
  {
   "cell_type": "code",
   "execution_count": null,
   "metadata": {},
   "outputs": [],
   "source": []
  }
 ],
 "metadata": {
  "kernelspec": {
   "display_name": "Python 3 (ipykernel)",
   "language": "python",
   "name": "python3"
  },
  "language_info": {
   "codemirror_mode": {
    "name": "ipython",
    "version": 3
   },
   "file_extension": ".py",
   "mimetype": "text/x-python",
   "name": "python",
   "nbconvert_exporter": "python",
   "pygments_lexer": "ipython3",
   "version": "3.11.0"
  }
 },
 "nbformat": 4,
 "nbformat_minor": 4
}
